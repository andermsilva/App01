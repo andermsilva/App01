{
  "nbformat": 4,
  "nbformat_minor": 0,
  "metadata": {
    "colab": {
      "name": "Anderson Marques da Silva - 221_LP_Funcao_ss_n.ipynb",
      "provenance": [],
      "collapsed_sections": [],
      "include_colab_link": true
    },
    "kernelspec": {
      "name": "python3",
      "display_name": "Python 3"
    }
  },
  "cells": [
    {
      "cell_type": "markdown",
      "metadata": {
        "id": "view-in-github",
        "colab_type": "text"
      },
      "source": [
        "<a href=\"https://colab.research.google.com/github/andermsilva/App01/blob/master/Anderson_Marques_da_Silva_221_LP_Funcao_ss_n.ipynb\" target=\"_parent\"><img src=\"https://colab.research.google.com/assets/colab-badge.svg\" alt=\"Open In Colab\"/></a>"
      ]
    },
    {
      "cell_type": "markdown",
      "metadata": {
        "id": "skN-Wz61xZzi"
      },
      "source": [
        "### 1. (Função sem retorno sem parâmetro) Faça um programa contendo uma função/método que apresente o valor 1 se o número digitado for positivo e 0 se for negativo."
      ]
    },
    {
      "cell_type": "code",
      "metadata": {
        "id": "Wbjafj_QxWP-"
      },
      "source": [
        "# Digite seu código aqui.\n",
        "def par_impar():\n",
        "  numero = int(input('Digite um numero: '))\n",
        "  if numero % 2 == 0:\n",
        "    print('Valor 1')\n",
        "  else:\n",
        "    print('Valor 0')\n",
        "\n",
        "def main():\n",
        "  par_impar()\n",
        "main()"
      ],
      "execution_count": null,
      "outputs": []
    },
    {
      "cell_type": "markdown",
      "metadata": {
        "id": "0jPoba3-yLnG"
      },
      "source": [
        "### 2. (Função sem retorno sem parâmetro) Faça uma função/método que leia dois valores positivos e apresente a soma dos N números existentes entre eles (inclusive). \n",
        "    Exemplo: \n",
        "        a = 2\n",
        "        b = 8\n",
        "        2 + 3 + 4 + 5 + 6 + 7 + 8\n",
        "        soma = 35"
      ]
    },
    {
      "cell_type": "code",
      "metadata": {
        "id": "UHD2oMlJyLzc"
      },
      "source": [
        "# Digite seu código aqui.\n",
        "def somar_intervalo():\n",
        "  n1 = int(input('Digitte o prmeiro numero '))\n",
        "  n2 = int(input('Digitte o segundo numero '))\n",
        "  while n1 < 0:\n",
        "    n1 = int(input('Digitte o prmeiro numero maior que zero (0) '))  \n",
        "  while n1 > n2:\n",
        "    n2 = int(input(f'Digitte o segundo numero maior que {n1} '))\n",
        "  soma = 0\n",
        "  intervalo  = (n2 - n1) + 1\n",
        "  for i in  range(intervalo):\n",
        "\n",
        "    soma += n1 +i\n",
        " \n",
        "  print(f'A soma do intervalo de {n1} a {n2} é {soma}')\n",
        "\n",
        "def main():\n",
        "  somar_intervalo()\n",
        "\n",
        "main()"
      ],
      "execution_count": null,
      "outputs": []
    },
    {
      "cell_type": "markdown",
      "metadata": {
        "id": "HAz_eYfhzg06"
      },
      "source": [
        "### 3. (Função sem retorno sem parâmetro) Faça uma função/método que receba três números inteiros *a*, *b*, *c* que sejam divisíveis por ***a***. O valores *b* e *c* representam o intervalo da estrutura de repetição. Apresente a quantidade e os números divisíveis. Não pode usar vetor e função pronta da linguagem Python.\n",
        "    Exemplo:\n",
        "        a = 5\n",
        "        b = 1\n",
        "        c = 10\n",
        "        1 % a\n",
        "        2 % a\n",
        "        3 % a\n",
        "        4 % a\n",
        "        5 % a este valor é divisível\n",
        "        6 % a\n",
        "        7\n",
        "        8\n",
        "        9\n",
        "        10 % a este valor é divisível\n",
        "        qtde = 2\n",
        "        Números divisíveis 5, 10"
      ]
    },
    {
      "cell_type": "code",
      "metadata": {
        "id": "Cg-NIjInzfmU"
      },
      "source": [
        "# Digite seu código aqui.\n",
        "def numero_divisivel():\n",
        "  n1 = int(input('Digitte o numero divisor '))\n",
        "  n2 = int(input('Digitte o primeiro numero '))\n",
        "  n3 = int(input('Digitte o segundo numero '))\n",
        "  while n1 <= 0:\n",
        "    n1 = int(input('Digitte o numero divisor \"tem que ser maor que zero(0)... '))  \n",
        "\n",
        "  while n2 > n3:\n",
        "    n3 = int(input(f'Digitte o segundo numero maior que {n2} '))\n",
        "  \n",
        "  soma = 0\n",
        " \n",
        "  intervalo  = (n3 - n2) + 1\n",
        "  divisivel = 0\n",
        "  for i in  range(intervalo):\n",
        "    if (n2 +i) % n1 == 0:\n",
        "      print(f'{n2+i} É divisivel por {n1}' )\n",
        "      divisivel = n2+i\n",
        "      soma += 1\n",
        "    else:\n",
        "      print(f'{n2+i} Não é divisivel por {n1}')\n",
        "\n",
        "  if soma > 1:\n",
        "    print(f'Total de {soma} números divisiveis por {n1}')\n",
        "  elif soma == 1:\n",
        "    print(f'Apenas o número {divisivel} é divisivel por {n1}')\n",
        "\n",
        "def main():\n",
        "  numero_divisivel()\n",
        "main()"
      ],
      "execution_count": null,
      "outputs": []
    },
    {
      "cell_type": "markdown",
      "metadata": {
        "id": "_aPd4c1b3OjS"
      },
      "source": [
        "### 4. (Função sem retorno sem parâmetro) Faça uma função/método que leia um único valor representado em segundos, converta-o e apresente o resultado em horas, minutos e segundos.\n",
        "    h = segundos / 3600\n",
        "    r = resto(segundos / 3600)\n",
        "    m = r / 60\n",
        "    s = resto(r / 60)\n",
        "    Observação 1: resto de uma divisão em Python %.\n",
        "    Observação 2: a hora, o minuto e o segundo devem ser apresentados como números inteiros. "
      ]
    },
    {
      "cell_type": "code",
      "metadata": {
        "id": "Q6LPIy_LCQuO",
        "colab": {
          "base_uri": "https://localhost:8080/"
        },
        "outputId": "70d5376e-9ec4-4440-eda6-5d1bf972661f"
      },
      "source": [
        "# Digite seu código aqui.\n",
        "def convert_h_m_s():\n",
        "  seconds = int(input('Digite os segundos para conversão: '))\n",
        "  h = seconds // 3600\n",
        "  m = (seconds % 3600) //60\n",
        "  s = (seconds % 3600) % 60\n",
        "  h0 = ''\n",
        "  m0 =''\n",
        "  s0 = ''\n",
        "  if h < 10:\n",
        "    h0 = '0'\n",
        "  if m < 10:\n",
        "    m0 = '0'\n",
        "  if s < 10:\n",
        "    s0 = '0'\n",
        "  print(f'{h0}{h}h:{m0}{m}m:{s0}{s}s')\n",
        "  \n",
        "def main():\n",
        "  convert_h_m_s()\n",
        "main()"
      ],
      "execution_count": null,
      "outputs": [
        {
          "output_type": "stream",
          "name": "stdout",
          "text": [
            "Digite os segundos para conversão: 3601\n",
            "01h:00m:01s\n"
          ]
        }
      ]
    },
    {
      "cell_type": "markdown",
      "metadata": {
        "id": "JgYwP3n1CQ_U"
      },
      "source": [
        "### 5. (Função sem retorno sem parâmetro) Faça uma função/método que receba o preço antigo e atual de um produto, determine o percentual de acréscimo entre esses valores e apresente-o.\n",
        "    r = ((preço_atual - preco_antigo) / preco_antigo) * 100"
      ]
    },
    {
      "cell_type": "code",
      "metadata": {
        "id": "fb6TwQ_yh_To",
        "colab": {
          "base_uri": "https://localhost:8080/"
        },
        "outputId": "0a48f849-8b58-4801-a6be-3abf71fb140f"
      },
      "source": [
        "# Digite seu código aqui.\n",
        "def variacao_preco():\n",
        "  pr_antigo = float(input('Digite o valor do preço antigo '))\n",
        "  pr_novo = float(input('Digite o valor do preço novo '))\n",
        "  while pr_antigo > pr_novo:\n",
        "    pr_novo = float(input('Digite o valor do novo preço '))\n",
        "    diferenca = (pr_novo - pr_antigo)/pr_antigo\n",
        "  percent = diferenca * 100\n",
        "  print(f'valor teve um aumento de {percent:.2f}%')\n",
        "\n",
        "def main():\n",
        "  variacao_preco()\n",
        "main()"
      ],
      "execution_count": null,
      "outputs": [
        {
          "output_type": "stream",
          "name": "stdout",
          "text": [
            "Digite o valor do preço antigo 1200\n",
            "Digite o valor do preço novo 2000\n",
            "valor teve um aumento de 66.67%\n"
          ]
        }
      ]
    },
    {
      "cell_type": "markdown",
      "metadata": {
        "id": "fZNXRUrrh_g9"
      },
      "source": [
        "### 6. (Função sem retorno sem parâmetro) Faça uma função/método que leia um valor inteiro entre 1 e 9 e mostre a seguinte tabela de **multiplicação**\n",
        "Neste exemplo foi escolhido o número 9.\n",
        "\n",
        "    1    \n",
        "    2     4\n",
        "    3     6     9\n",
        "    4     8    12    16\n",
        "    5    10    15    20    25\n",
        "    6    12    18    24    30    36\n",
        "    7    14    21    28    35    42    49\n",
        "    8    16    24    32    40    48    56    64   \n",
        "    9    18    27    36    45    54    63    72    81\n",
        "    for i = 1 até n\n",
        "       for j = 1 até i\n",
        "       \n",
        "    Observação: configure o print para não pular linha"
      ]
    },
    {
      "cell_type": "code",
      "metadata": {
        "id": "qA3MK3i1lJ-B",
        "colab": {
          "base_uri": "https://localhost:8080/"
        },
        "outputId": "ffd1c600-11e2-4b6d-d4c0-aaa0badf60ae"
      },
      "source": [
        "# Digite seu código aqui. \n",
        "# Para ter a mesma forma de apresentação use assim o print(r, end = '\\t')\n",
        "def mutiplica():\n",
        "  num = int(input('Informe um número de zero(0) a nove (9): '))\n",
        "  while num > 9:\n",
        "    num = int(input('Informe um número de zero(0) a nove (9):... ' ))\n",
        "  while num < 1:\n",
        "    num = int(input('Informe um número de zero(0) a nove (9):... ' ))\n",
        "  for i in range(1,num + 1):\n",
        "    for j in range( 1,i+1 ):\n",
        "      x = i*j\n",
        "      print(x ,end='\\t')\n",
        "    print()\n",
        "def main():\n",
        "  mutiplica()\n",
        "main()"
      ],
      "execution_count": null,
      "outputs": [
        {
          "output_type": "stream",
          "name": "stdout",
          "text": [
            "Informe um número de zero(0) a nove (9): 0\n",
            "Informe um número de zero(0) a nove (9):... -8\n",
            "Informe um número de zero(0) a nove (9):... 9\n",
            "1\t\n",
            "2\t4\t\n",
            "3\t6\t9\t\n",
            "4\t8\t12\t16\t\n",
            "5\t10\t15\t20\t25\t\n",
            "6\t12\t18\t24\t30\t36\t\n",
            "7\t14\t21\t28\t35\t42\t49\t\n",
            "8\t16\t24\t32\t40\t48\t56\t64\t\n",
            "9\t18\t27\t36\t45\t54\t63\t72\t81\t\n"
          ]
        }
      ]
    },
    {
      "cell_type": "markdown",
      "metadata": {
        "id": "qC3ghcOalLBi"
      },
      "source": [
        "### 7. (Função sem retorno sem parâmetro) Faça uma função/método que leia três notas de um aluno e uma letra, se a letra for igual a *A*, deverá calcular a média aritimética das notas dos alunos, se for *P*, deverá calcular a média ponderada, com pesos 5, 3 e 2. A média deve ser mostrada ao final.\n",
        "N1, N2 e N3 são notas.\n",
        "\n",
        "P1, P2 e P3 são pesos.\n",
        "\n",
        "Média ponderada = (N1 * P1 + N2 * P2 + N3 * P3 ) / (P1 + P2 + P3)"
      ]
    },
    {
      "cell_type": "code",
      "metadata": {
        "id": "73QPAAO0q2Wo",
        "colab": {
          "base_uri": "https://localhost:8080/"
        },
        "outputId": "72dc2571-65df-463e-e009-4ea31800dae6"
      },
      "source": [
        "# Digite seu código aqui.\n",
        "def media_ponderada():\n",
        "  nota1 = float(input('Informe a nota 1 do aluno: '))\n",
        "  nota2 = float(input('Informe a nota 2 do aluno: '))\n",
        "  nota3 = float(input('Informe a nota 3 do aluno: '))\n",
        "  tipo = input('Informe o tipo de média... (P) Ponderada e (A) Aritimetica: ')\n",
        "  media = 0\n",
        "  p1 = 5\n",
        "  p2 = 3\n",
        "  p3 = 2\n",
        " \n",
        "  if tipo == 'P' or tipo == 'p':\n",
        "    media = (nota1 * p1 + nota2 * p2 + nota3 * p3)/(p1+p2+p3)\n",
        "    print(f'Média das ponderada: {media:.2f}')\n",
        "  elif  tipo == 'A' or tipo == 'a':\n",
        "    media = (nota1 + nota2 + nota3 )/(3)\n",
        "    print(f'Média aritimetica das notas: {media:.2f}')\n",
        "    #print(f'Média aritimetica: {media}')\n",
        "  else:\n",
        "    print('Voce não escolheu o tipo correto para o calcúlo da média... :(')\n",
        "def main():\n",
        "  media_ponderada()\n",
        "main()"
      ],
      "execution_count": null,
      "outputs": [
        {
          "output_type": "stream",
          "name": "stdout",
          "text": [
            "Informe a nota 1 do aluno: 8\n",
            "Informe a nota 2 do aluno: 9\n",
            "Informe a nota 3 do aluno: 7\n",
            "Informe o tipo de média... (P) Ponderada e (A) Aritimetica: p\n",
            "Média das ponderada: 8.10\n"
          ]
        }
      ]
    },
    {
      "cell_type": "markdown",
      "metadata": {
        "id": "Go_7xqNQq2oY"
      },
      "source": [
        "### 8. (Função sem retorno sem parâmetro) Faça uma função/método que leia uma hora de início e de término de um jogo, ambas divididas em dois valores distintos: hora e minuto. Deverá ser apresentado a duração expressa em minutos, considerando que o tempo máximo de duração de um jogo é de 24 horas e que ele pode começar em um dia e terminar no outro.\n",
        "    se m_f < m_i\n",
        "        m_f = m_f + 60\n",
        "        h_f = h_f - 1\n",
        "    se h_f < h_i\n",
        "        h_f = h_f + 24\n",
        "    tot_m = m_f - m_i\n",
        "    tot_h = h_f - h_i\n",
        "    total = tot_h * 60 + tot_m "
      ]
    },
    {
      "cell_type": "code",
      "metadata": {
        "id": "BgfVTL9-0WQi",
        "colab": {
          "base_uri": "https://localhost:8080/"
        },
        "outputId": "112b32ea-5351-4dc2-8180-6adec0c81f76"
      },
      "source": [
        "# Digite seu código aqui.\n",
        "def time_game():\n",
        "  print('Tempo da partida?')\n",
        "  horaInicial = int(input('Infome a hora inicial '))\n",
        "  minutoInicial = int(input('Infome o minuto '))\n",
        "  horaTermino = int(input('Infome a hora do termino '))\n",
        "  minutoTermino = int(input('Infome o minuto '))\n",
        " \n",
        "  if minutoInicial > minutoTermino:\n",
        "    minutoTermino += 60\n",
        "    horaTermino  -= 1\n",
        "  if horaInicial > horaTermino:\n",
        "    horaTermino  += 24\n",
        "\n",
        "  minutoDuracao = minutoTermino - minutoInicial\n",
        "  horaDuracao = horaTermino - horaInicial\n",
        "\n",
        "  if horaDuracao == 0:\n",
        "    print(f'A partida teve {minutoDuracao } minuto(s)')\n",
        "  elif minutoDuracao == 0:\n",
        "    print(f'A partida teve {horaDuracao} hora(s)')\n",
        "\n",
        "  if horaDuracao > 0:\n",
        "    if minutoDuracao > 0:\n",
        "      print(f'A partida teve {horaDuracao} hora(s) e {minutoDuracao} minuto(s)')\n",
        "    elif minutoDuracao > 0:\n",
        "      print(f'A partida teve {minutoDuracao} hora(s)')\n",
        "def main():\n",
        "  time_game()\n",
        "main()"
      ],
      "execution_count": null,
      "outputs": [
        {
          "output_type": "stream",
          "name": "stdout",
          "text": [
            "Tempo da partida?\n",
            "Infome a hora inicial 10\n",
            "Infome o minuto 0\n",
            "Infome a hora do termino 23\n",
            "Infome o minuto 15\n",
            "A partida teve 13 hora(s) e 15 minuto(s)\n"
          ]
        }
      ]
    },
    {
      "cell_type": "markdown",
      "metadata": {
        "id": "IGOQmdAe0myM"
      },
      "source": [
        "### 9. (Função sem retorno sem parâmetro) Faça uma função/método que leia cinco valores inteiros, determine e mostre o maior e o menor deles. Não pode usar vetor e função pronta da linguagem Python."
      ]
    },
    {
      "cell_type": "code",
      "metadata": {
        "id": "A4-CekXy0vrz",
        "colab": {
          "base_uri": "https://localhost:8080/"
        },
        "outputId": "efb4c878-de1f-4804-cb8b-fef18a6752bd"
      },
      "source": [
        "# Digite seu código aqui.\n",
        "def maior_menor():\n",
        "  menor = 0\n",
        "  maior = 0\n",
        "  for i in range(5):\n",
        "    valor = int(input(f'Informe o {i+1}º valor '))\n",
        "    if i == 0:\n",
        "      menor = valor\n",
        "      maior = valor\n",
        "    if valor >= maior:\n",
        "      maior = valor\n",
        "    if valor <= menor:\n",
        "      menor = valor\n",
        "\n",
        "  print(f'O maior valor é: {maior}')\n",
        "  print(f'O menor valor é: {menor}')\n",
        "def main():\n",
        "  maior_menor()\n",
        "main()"
      ],
      "execution_count": null,
      "outputs": [
        {
          "output_type": "stream",
          "name": "stdout",
          "text": [
            "Informe o 1º valor 5\n",
            "Informe o 2º valor 98\n",
            "Informe o 3º valor 0\n",
            "Informe o 4º valor 47\n",
            "Informe o 5º valor 2\n",
            "O maior valor é: 98\n",
            "O menor valor é: 0\n"
          ]
        }
      ]
    },
    {
      "cell_type": "markdown",
      "metadata": {
        "id": "W2PqWZm20v6M"
      },
      "source": [
        "### 10. (Função sem retorno sem parâmetro) Faça uma função/método que leia um valor inteiro e positivo N e mostre o valor de S, obtido pelo seguinte cálculo: \n",
        "###S = 1  +  1/1!  +  1/2!  +  1/3!  + ... +  1/N!\n",
        "\n",
        "Observvação: Não pode usar vetor e função pronta da linguagem Python."
      ]
    },
    {
      "cell_type": "code",
      "metadata": {
        "id": "U9eTKxuz1c7S",
        "colab": {
          "base_uri": "https://localhost:8080/"
        },
        "outputId": "608caa89-c2ad-45a0-aee9-de6a2d591496"
      },
      "source": [
        "# Digite seu código aqui.\n",
        "# S = 1 + 1 + 1/2! + 1/3 + 1/4!\n",
        "# S = 1 + 1 + 0.5 + 0.16 + 0.041\n",
        "# S = 2.66 + 0.041\n",
        "# 3! = 3 * 2 * 1 = 6\n",
        "# 4! = 1 * 2 * 3 * 4 = 24    1/4!   1/24  = 0.041\n",
        "# N = int(input('Informe o valor de N termos: '))\n",
        "# S = 1\n",
        "def expressao():\n",
        "  n = int(input('Informe o valor de N termos: '))\n",
        "  s =1\n",
        "  result = 1\n",
        "  fato = 0\n",
        "  print(f'Soma = {s}')\n",
        "\n",
        "  for i in range(n):\n",
        "    fato =  i + 1\n",
        "    result = result * fato\n",
        "    print(f'{fato}! = {result} -> 1/{result} = {1/result:.5f}')\n",
        "    s += 1/result\n",
        "  print(f'A soma dos termos é: {s:.4f}')\n",
        "def main():\n",
        "  expressao()\n",
        "main()"
      ],
      "execution_count": null,
      "outputs": [
        {
          "output_type": "stream",
          "name": "stdout",
          "text": [
            "Informe o valor de N termos: 5\n",
            "Soma = 1\n",
            "1! = 1 -> 1/1 = 1.00000\n",
            "2! = 2 -> 1/2 = 0.50000\n",
            "3! = 6 -> 1/6 = 0.16667\n",
            "4! = 24 -> 1/24 = 0.04167\n",
            "5! = 120 -> 1/120 = 0.00833\n",
            "A soma dos termos é: 2.7167\n"
          ]
        }
      ]
    }
  ]
}