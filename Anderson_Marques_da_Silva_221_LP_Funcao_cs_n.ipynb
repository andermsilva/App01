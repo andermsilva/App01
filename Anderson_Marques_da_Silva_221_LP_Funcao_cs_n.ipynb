{
  "nbformat": 4,
  "nbformat_minor": 0,
  "metadata": {
    "colab": {
      "name": "Anderson Marques da Silva - 221_LP_Funcao_cs_n.ipynb",
      "provenance": [],
      "collapsed_sections": [],
      "include_colab_link": true
    },
    "kernelspec": {
      "name": "python3",
      "display_name": "Python 3"
    }
  },
  "cells": [
    {
      "cell_type": "markdown",
      "metadata": {
        "id": "view-in-github",
        "colab_type": "text"
      },
      "source": [
        "<a href=\"https://colab.research.google.com/github/andermsilva/App01/blob/main/Anderson_Marques_da_Silva_221_LP_Funcao_cs_n.ipynb\" target=\"_parent\"><img src=\"https://colab.research.google.com/assets/colab-badge.svg\" alt=\"Open In Colab\"/></a>"
      ]
    },
    {
      "cell_type": "markdown",
      "metadata": {
        "id": "skN-Wz61xZzi"
      },
      "source": [
        "### 1. (Função com retorno sem parâmetro) Faça um programa contendo uma função/método que leia um número e o multiplique por 2 retornando o resultado e o apresente."
      ]
    },
    {
      "cell_type": "code",
      "metadata": {
        "id": "Wbjafj_QxWP-",
        "colab": {
          "base_uri": "https://localhost:8080/"
        },
        "outputId": "83951372-9b1d-4dfe-93f8-f7a7326ca4d2"
      },
      "source": [
        "def multiplicar():\n",
        "    numero = int(input('Digite um número: '))\n",
        "    r = numero * 2\n",
        "    return r\n",
        "\n",
        "def main():\n",
        "    #1ª forma de chamar uma função com retorno....OU...\n",
        "    resultado = multiplicar()\n",
        "    print('O resultado é',resultado)\n",
        "\n",
        "    #2ª forma de chamar uma função com retorno.........\n",
        "    print('O resultado é',multiplicar())\n",
        "    \n",
        "main() "
      ],
      "execution_count": null,
      "outputs": [
        {
          "output_type": "stream",
          "name": "stdout",
          "text": [
            "Digite um número: 5\n",
            "O resultado é 10\n",
            "Digite um número: 2\n",
            "O resultado é 4\n"
          ]
        }
      ]
    },
    {
      "cell_type": "markdown",
      "metadata": {
        "id": "0jPoba3-yLnG"
      },
      "source": [
        "### 2. (Função com retorno sem parâmetro) Faça um programa contendo uma função/método para subtrair dois números, retornar o resultado e o apresentando."
      ]
    },
    {
      "cell_type": "code",
      "metadata": {
        "id": "UHD2oMlJyLzc",
        "colab": {
          "base_uri": "https://localhost:8080/"
        },
        "outputId": "747e2443-ca6d-4071-af42-65dc44008af2"
      },
      "source": [
        "# Digite aqui seu código\n",
        "def subtrai():\n",
        "  n1 = int(input('Digite o primeiro número '))\n",
        "  n2 = int(input('Digite o segundo número '))\n",
        "  result = n1 - n2\n",
        "  return result\n",
        "def main():\n",
        "  print(f'O resultado da subtraçãode é {subtrai()}')\n",
        "\n",
        "main() "
      ],
      "execution_count": null,
      "outputs": [
        {
          "output_type": "stream",
          "name": "stdout",
          "text": [
            "Digite o primeiro número 8\n",
            "Digite o segundo número 9\n",
            "O resultado da subtraçãode é -1\n"
          ]
        }
      ]
    },
    {
      "cell_type": "markdown",
      "metadata": {
        "id": "4zGuLRRXt0D_"
      },
      "source": [
        "### 3. (Função com retorno sem parâmetro) Faça um programa contendo uma função/método que leia a base e a altura de um triângulo e retorne/apresente sua área A = (base x altura)/2."
      ]
    },
    {
      "cell_type": "code",
      "metadata": {
        "id": "nU0x1v2Vt1-w",
        "colab": {
          "base_uri": "https://localhost:8080/"
        },
        "outputId": "36953743-e4c1-427d-ab57-6b30dce14232"
      },
      "source": [
        "# Digite aqui seu código\n",
        "def area_triangulo():\n",
        "  base = float(input('Informe a base do triangulo '))\n",
        "  altura = float(input('Informe a altura do triangulo '))\n",
        "  area = (base * altura)/2\n",
        "  return area\n",
        "\n",
        "def main():\n",
        "  result_area = area_triangulo()\n",
        "  print(f'A área do triangulo é: {result_area:.2f}²')\n",
        "main()"
      ],
      "execution_count": null,
      "outputs": [
        {
          "output_type": "stream",
          "name": "stdout",
          "text": [
            "Informe a base do triangulo 8\n",
            "Informe a altura do triangulo 9\n",
            "A área do triangulo é: 36.00²\n"
          ]
        }
      ]
    },
    {
      "cell_type": "markdown",
      "metadata": {
        "id": "W0slzp_rt2Iu"
      },
      "source": [
        "### 4. (Função com retorno sem parâmetro) Faça um programa contendo uma função/método que leia o lado de um quadrado e retorne sua área, area = lado²."
      ]
    },
    {
      "cell_type": "code",
      "metadata": {
        "id": "hH2UZstHvFs2",
        "colab": {
          "base_uri": "https://localhost:8080/"
        },
        "outputId": "0c55ce1b-b692-40dc-b34d-b60bca7a6c4a"
      },
      "source": [
        "# Digite aqui seu código\n",
        "def area_quadrado():\n",
        "  base = float(input('Informe o comprimento do lado de seu quadrado '))\n",
        "  \n",
        "  area = base ** 2\n",
        "  return area\n",
        "\n",
        "def main():\n",
        "  result_area = area_quadrado()\n",
        "  print(f'A área do quadrado é: {result_area:.2f}²')\n",
        "main()"
      ],
      "execution_count": null,
      "outputs": [
        {
          "output_type": "stream",
          "name": "stdout",
          "text": [
            "Informe o comprimento do lado de seu quadrado 7\n",
            "A área do quadrado é: 49.00²\n"
          ]
        }
      ]
    },
    {
      "cell_type": "markdown",
      "metadata": {
        "id": "hfkLntgNTWN1"
      },
      "source": [
        "###5. (Função com retorno sem parâmetro) Faça um programa contendo uma função/método  que verifique se um número é par, retorne mostrando a str/string ‘É par’ ou se ‘É ímpar’."
      ]
    },
    {
      "cell_type": "code",
      "metadata": {
        "id": "YIp7ES5deRo8",
        "colab": {
          "base_uri": "https://localhost:8080/"
        },
        "outputId": "fb886055-3f53-4173-f6a4-d87280e2a196"
      },
      "source": [
        "# Digite aqui seu código\n",
        "def par_impar():\n",
        "  num = int(input('Digite um número: '))\n",
        "\n",
        "  if num % 2 == 0:\n",
        "    return str('É par')\n",
        "  else:\n",
        "    return str('É impar')\n",
        "def main():\n",
        "  print(f'O número digitado {par_impar()}')\n",
        "\n",
        "main()"
      ],
      "execution_count": null,
      "outputs": [
        {
          "output_type": "stream",
          "name": "stdout",
          "text": [
            "Digite um número: 8\n",
            "O número digitado É par\n"
          ]
        }
      ]
    },
    {
      "cell_type": "markdown",
      "metadata": {
        "id": "RIGUAKHveTJS"
      },
      "source": [
        "###6. (Função com retorno sem parâmetro) Faça um programa contendo uma função/método  que verifique se um número é par, retorne/mostre o valor bool **True** para par e **False** para ímpar."
      ]
    },
    {
      "cell_type": "code",
      "metadata": {
        "id": "Q6LPIy_LCQuO",
        "colab": {
          "base_uri": "https://localhost:8080/"
        },
        "outputId": "3e0c2317-0803-4163-bd4f-a2dae624c8d7"
      },
      "source": [
        "# Digite aqui seu código\n",
        "def odd_even():\n",
        "  num = int(input('Digite um número: '))\n",
        "\n",
        "  if num % 2 == 0:\n",
        "    return True\n",
        "  else:\n",
        "    return False\n",
        "def main():\n",
        "  print(f'{odd_even()}')\n",
        "main()"
      ],
      "execution_count": null,
      "outputs": [
        {
          "output_type": "stream",
          "name": "stdout",
          "text": [
            "Digite um número: 8\n",
            "True\n"
          ]
        }
      ]
    },
    {
      "cell_type": "markdown",
      "metadata": {
        "id": "JgYwP3n1CQ_U"
      },
      "source": [
        "### 7. (Função com retorno sem parâmetro) Faça uma função/método que leia e armazene 5 elementos inteiros no vetor A, deverá ser gerado um vetor B, de mesmo tamanho, que armazenará o fatorial de cada elemento de A. Não use função pronta de cálculo de fatorial. Retorne/apresente o vetor B."
      ]
    },
    {
      "cell_type": "code",
      "metadata": {
        "id": "34fIP0epT69d",
        "colab": {
          "base_uri": "https://localhost:8080/"
        },
        "outputId": "f64cab77-87be-43d2-c99a-e8c2386ac421"
      },
      "source": [
        "# Exemplo:\n",
        "# A = [5  ,4 ,3,2,1]\n",
        "# B = [120,24,6,2,1]\n",
        "def five_numbers():\n",
        "  fatorial = []\n",
        "  vet = []\n",
        "  for i in range(5):\n",
        "    num = int(input(f'Digite o {i+1}° número: '))\n",
        "    vet.append(num)\n",
        "    fat = 1\n",
        "    for j in range(num):\n",
        "      fat = fat * (j+1)\n",
        "    fatorial.append(fat)\n",
        "  print(f'Vetor dos números {vet}' )\n",
        "  return fatorial\n",
        "def main():\n",
        "   print(f'Vetor de fatoriais {five_numbers()}' )\n",
        "main()"
      ],
      "execution_count": null,
      "outputs": [
        {
          "output_type": "stream",
          "name": "stdout",
          "text": [
            "Digite o 1° número: 5\n",
            "Digite o 2° número: 4\n",
            "Digite o 3° número: 3\n",
            "Digite o 4° número: 8\n",
            "Digite o 5° número: 7\n",
            "Vetor dos números [5, 4, 3, 8, 7]\n",
            "Vetor de fatoriais [120, 24, 6, 40320, 5040]\n"
          ]
        }
      ]
    },
    {
      "cell_type": "markdown",
      "metadata": {
        "id": "_aPd4c1b3OjS"
      },
      "source": [
        "### 8. (Função com retorno sem parâmetro) Faça uma função/método retorne um vetor com os três primeiros números perfeitos. Sabe-se que um número é perfeito quando é igual a soma de seus divisores (exceto ele mesmo). \n",
        "Exemplo: os divisores de 6 são 1, 2 e 3, e 1 + 2 + 3 = 6, logo 6 é perfeito. Não use função pronta.\n",
        "\n",
        "1º número perfeito: 6\n",
        "\n",
        "2º número perfeito: 28\n",
        "\n",
        "3º número perfeito: 496"
      ]
    },
    {
      "cell_type": "code",
      "metadata": {
        "id": "fb6TwQ_yh_To",
        "colab": {
          "base_uri": "https://localhost:8080/"
        },
        "outputId": "17be7f9d-1fea-40b6-d508-fbed330922b5"
      },
      "source": [
        "# número 1 não é perfeito\n",
        "# ...\n",
        "# número 4 não é perfeito, exemplo: 4 % 1 == 0, 4 % 2 == 0, 4 % 3 != 0, a soma \n",
        "# resulta em 2\n",
        "# ...\n",
        "# número 6 é perfeito  6 % 1 == 0, 6 % 2 == 0, 6 % 3 == 0, 6 % 4 != 0, 6 % 5 != 0\n",
        "# quando é perfeito a soma de seus divisores da o mesmo valor de número que é 6\n",
        "def vet_perfect():\n",
        "    vet =[]\n",
        "    numeros =  0\n",
        "    for i in range(1,497):\n",
        "        soma = 0\n",
        "        for j in range(1,i):\n",
        "            if i % j == 0:\n",
        "                soma += j\n",
        "        if soma == i:\n",
        "            vet.append(soma)  \n",
        "    \n",
        "    return vet\n",
        "   \n",
        "\n",
        "def main():\n",
        " teste =  vet_perfect()\n",
        " print('Vetor com os três primeiros números perfeitos: ',teste)\n",
        "main()\n",
        "\n"
      ],
      "execution_count": null,
      "outputs": [
        {
          "output_type": "stream",
          "name": "stdout",
          "text": [
            "Vetor com os três primeiros números perfeitos:  [6, 28, 496]\n"
          ]
        }
      ]
    },
    {
      "cell_type": "markdown",
      "metadata": {
        "id": "HAz_eYfhzg06"
      },
      "source": [
        "### 9. (Função com retorno sem parâmetro) Foi realizada uma pesquisa sobre algumas características físicas de cinco habitantes de uma região. Foram coletados os seguintes dados de cada habitante: idade, sexo (M - masculino ou F - feminino), cor dos olhos (A - azuis ou C - castanhos), cor dos cabelos (L - louros, P - pretos ou C - castanhos).\n",
        "\n",
        "1.   Faça uma função/método que leia esses dados, armazenando-os em vetores (listas);\n",
        "2.   Faça uma função/método que determine e devolva a função principal a média de idades das pessoas com olhos castanhos e cabelos pretos;\n",
        "3. Faça uma função/método que determine e devolva a função principal a maior idade entre os habitantes;\n",
        "4.  Faça uma função/método que determine e devolva a função principal a quantidade de indivíduos do sexo feminino com idade entre 18 e 35 anos(inclusive) e que tenham olhos azuis e cabelos louros.\n"
      ]
    },
    {
      "cell_type": "code",
      "metadata": {
        "id": "7Ez7TgiQvbTD",
        "colab": {
          "base_uri": "https://localhost:8080/"
        },
        "outputId": "43a06a49-7fe4-4b33-9077-3119a32a6895"
      },
      "source": [
        "# Declarar os vetores antes de qualquer programação, indica que \n",
        "# que estas variáveis serão globais a todo o restante do programa \n",
        "# e das funções \n",
        "\n",
        "''' idade =  [12, 50, 21, 14, 22, 78, 25, 35, 55, 61, 28] \n",
        "sexo =   ['M','F','F','F','M','M','M','F','M','F','F']\n",
        "olho =   ['A','A','A','C','A','C','C','A','C','C','A']\n",
        "cabelo = ['P','P','L','C','P','C','C','L','C','L','L'] '''\n",
        "\n",
        "idade =  []\n",
        "sexo =   []\n",
        "olho =   []\n",
        "cabelo = []\n",
        "\n",
        "def cadastrar():\n",
        "    idd = int(input('Informe a idade...: '))\n",
        "\n",
        "    while idd != 0:\n",
        "        sx = input('Informe o sexo \"M\" masculino ou \"F\" feminino...: ').upper()\n",
        "        olhos = input('Informe a cor dos olhos \"A\"Azuis \"C\"Castanho ').upper()\n",
        "        cabelos = input('Informe a cor dos cabelos \"P\" preto, \"C\" castanho e \"L\"loiro...: ').upper()\n",
        "        olho.append(olhos)\n",
        "        idade.append(idd)\n",
        "        cabelo.append(cabelos)\n",
        "        sexo.append(sx)\n",
        "        idd = int(input('Informe a idade ou digite 0(zero) para sair...: '))\n",
        "def media_cabelo():\n",
        "    media = 0\n",
        "    idd = 0\n",
        "    soma = 0\n",
        "    for i in range(len(cabelo)):\n",
        "        if cabelo[i] == 'P' or cabelo[i] == 'C':\n",
        "            if olho[i] == 'C':\n",
        "                soma += 1\n",
        "                idd += idade[i]\n",
        "    if soma > 0:\n",
        "        media = idd / soma\n",
        "    return media   \n",
        "\n",
        "def mais_velho():\n",
        "    maior = 0\n",
        "    for i in range(len(idade)):\n",
        "        if idade[i] == 0:\n",
        "            maior = idade[i]\n",
        "        if idade[i] >= maior:\n",
        "            maior = idade[i]\n",
        "    return maior        \n",
        "\n",
        "def blonds():\n",
        "    count = 0\n",
        "    for i in range(len(idade)):\n",
        "        if idade[i] >= 18 and idade[i] <= 35:\n",
        "            if olho[i] == 'A' and cabelo[i] == 'L':\n",
        "                count += 1\n",
        "    return count\n",
        "\n",
        "def main():\n",
        "    cadastrar()\n",
        "    print('------------------------///// RESULTADO /////---------------------------')\n",
        "    vet = media_cabelo()\n",
        "    print(f'A média de idade de pessoas com olhos castanhos e cabelos pretos é: {vet:.2f}')\n",
        "    print('O habitante mais velho tem: ',mais_velho(), 'anos!')\n",
        "    print('A quantidade de mulheres loiras de olhos azuis de 18 a 35 anos é: ',blonds())\n",
        "main()"
      ],
      "execution_count": 2,
      "outputs": [
        {
          "output_type": "stream",
          "name": "stdout",
          "text": [
            "------------------------///// RESULTADO /////---------------------------\n",
            "A média de idade de pessoas com olhos castanhos e cabelos pretos é: 43.00\n",
            "O habitante mais velho tem:  78 anos!\n",
            "A quantidade de mulheres loiras de olhos azuis de 18 a 35 anos é:  3\n"
          ]
        }
      ]
    }
  ]
}