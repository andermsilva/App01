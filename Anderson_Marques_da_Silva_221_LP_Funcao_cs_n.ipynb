{
  "nbformat": 4,
  "nbformat_minor": 0,
  "metadata": {
    "colab": {
      "name": "Anderson Marques da Silva - 221_LP_Funcao_cs_n.ipynb",
      "provenance": [],
      "collapsed_sections": [],
      "include_colab_link": true
    },
    "kernelspec": {
      "name": "python3",
      "display_name": "Python 3"
    }
  },
  "cells": [
    {
      "cell_type": "markdown",
      "metadata": {
        "id": "view-in-github",
        "colab_type": "text"
      },
      "source": [
        "<a href=\"https://colab.research.google.com/github/andermsilva/App01/blob/main/Anderson_Marques_da_Silva_221_LP_Funcao_cs_n.ipynb\" target=\"_parent\"><img src=\"https://colab.research.google.com/assets/colab-badge.svg\" alt=\"Open In Colab\"/></a>"
      ]
    },
    
     
    {
      "cell_type": "code",
      "metadata": {
        "id": "7Ez7TgiQvbTD",
        "colab": {
          "base_uri": "https://localhost:8080/"
        },
        "outputId": "43a06a49-7fe4-4b33-9077-3119a32a6895"
      },
      "source": [
        "# Declarar os vetores antes de qualquer programação, indica que \n",
        "# que estas variáveis serão globais a todo o restante do programa \n",
        "# e das funções \n",
        "\n",
        "''' idade =  [12, 50, 21, 14, 22, 78, 25, 35, 55, 61, 28] \n",
        "sexo =   ['M','F','F','F','M','M','M','F','M','F','F']\n",
        "olho =   ['A','A','A','C','A','C','C','A','C','C','A']\n",
        "cabelo = ['P','P','L','C','P','C','C','L','C','L','L'] '''\n",
        "\n",
        "idade =  []\n",
        "sexo =   []\n",
        "olho =   []\n",
        "cabelo = []\n",
        "\n",
        "def cadastrar():\n",
        "    idd = int(input('Informe a idade...: '))\n",
        "\n",
        "    while idd != 0:\n",
        "        sx = input('Informe o sexo \"M\" masculino ou \"F\" feminino...: ').upper()\n",
        "        olhos = input('Informe a cor dos olhos \"A\"Azuis \"C\"Castanho ').upper()\n",
        "        cabelos = input('Informe a cor dos cabelos \"P\" preto, \"C\" castanho e \"L\"loiro...: ').upper()\n",
        "        olho.append(olhos)\n",
        "        idade.append(idd)\n",
        "        cabelo.append(cabelos)\n",
        "        sexo.append(sx)\n",
        "        idd = int(input('Informe a idade ou digite 0(zero) para sair...: '))\n",
        "def media_cabelo():\n",
        "    media = 0\n",
        "    idd = 0\n",
        "    soma = 0\n",
        "    for i in range(len(cabelo)):\n",
        "        if cabelo[i] == 'P' or cabelo[i] == 'C':\n",
        "            if olho[i] == 'C':\n",
        "                soma += 1\n",
        "                idd += idade[i]\n",
        "    if soma > 0:\n",
        "        media = idd / soma\n",
        "    return media   \n",
        "\n",
        "def mais_velho():\n",
        "    maior = 0\n",
        "    for i in range(len(idade)):\n",
        "        if idade[i] == 0:\n",
        "            maior = idade[i]\n",
        "        if idade[i] >= maior:\n",
        "            maior = idade[i]\n",
        "    return maior        \n",
        "\n",
        "def blonds():\n",
        "    count = 0\n",
        "    for i in range(len(idade)):\n",
        "        if idade[i] >= 18 and idade[i] <= 35:\n",
        "            if olho[i] == 'A' and cabelo[i] == 'L':\n",
        "                count += 1\n",
        "    return count\n",
        "\n",
        "def main():\n",
        "    cadastrar()\n",
        "    print('------------------------///// RESULTADO /////---------------------------')\n",
        "    vet = media_cabelo()\n",
        "    print(f'A média de idade de pessoas com olhos castanhos e cabelos pretos é: {vet:.2f}')\n",
        "    print('O habitante mais velho tem: ',mais_velho(), 'anos!')\n",
        "    print('A quantidade de mulheres loiras de olhos azuis de 18 a 35 anos é: ',blonds())\n",
        "main()"
      ],
      "execution_count": 2,
      "outputs": [
        {
          "output_type": "stream",
          "name": "stdout",
          "text": [
            "------------------------///// RESULTADO /////---------------------------\n",
            "A média de idade de pessoas com olhos castanhos e cabelos pretos é: 43.00\n",
            "O habitante mais velho tem:  78 anos!\n",
            "A quantidade de mulheres loiras de olhos azuis de 18 a 35 anos é:  3\n"
          ]
        }
      ]
    }
  ]
}
